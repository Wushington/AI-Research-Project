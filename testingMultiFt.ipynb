{
 "cells": [
  {
   "cell_type": "code",
   "execution_count": 2,
   "metadata": {},
   "outputs": [],
   "source": [
    "import pandas as pd\n",
    "import matplotlib.pyplot as plt\n",
    "import numpy as np\n",
    "\n",
    "# Read in the data\n",
    "data = pd.read_csv('data\\\\FinalData.csv')"
   ]
  },
  {
   "cell_type": "code",
   "execution_count": 8,
   "metadata": {},
   "outputs": [
    {
     "data": {
      "text/html": [
       "<div>\n",
       "<style scoped>\n",
       "    .dataframe tbody tr th:only-of-type {\n",
       "        vertical-align: middle;\n",
       "    }\n",
       "\n",
       "    .dataframe tbody tr th {\n",
       "        vertical-align: top;\n",
       "    }\n",
       "\n",
       "    .dataframe thead th {\n",
       "        text-align: right;\n",
       "    }\n",
       "</style>\n",
       "<table border=\"1\" class=\"dataframe\">\n",
       "  <thead>\n",
       "    <tr style=\"text-align: right;\">\n",
       "      <th></th>\n",
       "      <th>Homework</th>\n",
       "      <th>Project</th>\n",
       "      <th>Quiz</th>\n",
       "      <th>Exam</th>\n",
       "    </tr>\n",
       "  </thead>\n",
       "  <tbody>\n",
       "    <tr>\n",
       "      <th>0</th>\n",
       "      <td>98.333333</td>\n",
       "      <td>95.0</td>\n",
       "      <td>97.5</td>\n",
       "      <td>100.0</td>\n",
       "    </tr>\n",
       "    <tr>\n",
       "      <th>1</th>\n",
       "      <td>81.166667</td>\n",
       "      <td>0.0</td>\n",
       "      <td>95.0</td>\n",
       "      <td>96.0</td>\n",
       "    </tr>\n",
       "    <tr>\n",
       "      <th>2</th>\n",
       "      <td>80.333333</td>\n",
       "      <td>0.0</td>\n",
       "      <td>97.5</td>\n",
       "      <td>90.0</td>\n",
       "    </tr>\n",
       "    <tr>\n",
       "      <th>3</th>\n",
       "      <td>70.833333</td>\n",
       "      <td>40.0</td>\n",
       "      <td>73.0</td>\n",
       "      <td>60.0</td>\n",
       "    </tr>\n",
       "    <tr>\n",
       "      <th>4</th>\n",
       "      <td>86.250000</td>\n",
       "      <td>90.0</td>\n",
       "      <td>86.0</td>\n",
       "      <td>90.0</td>\n",
       "    </tr>\n",
       "    <tr>\n",
       "      <th>...</th>\n",
       "      <td>...</td>\n",
       "      <td>...</td>\n",
       "      <td>...</td>\n",
       "      <td>...</td>\n",
       "    </tr>\n",
       "    <tr>\n",
       "      <th>145</th>\n",
       "      <td>80.833333</td>\n",
       "      <td>30.0</td>\n",
       "      <td>65.5</td>\n",
       "      <td>77.5</td>\n",
       "    </tr>\n",
       "    <tr>\n",
       "      <th>146</th>\n",
       "      <td>82.083333</td>\n",
       "      <td>85.0</td>\n",
       "      <td>72.0</td>\n",
       "      <td>41.0</td>\n",
       "    </tr>\n",
       "    <tr>\n",
       "      <th>147</th>\n",
       "      <td>87.500000</td>\n",
       "      <td>80.0</td>\n",
       "      <td>83.0</td>\n",
       "      <td>72.0</td>\n",
       "    </tr>\n",
       "    <tr>\n",
       "      <th>148</th>\n",
       "      <td>90.000000</td>\n",
       "      <td>90.0</td>\n",
       "      <td>93.0</td>\n",
       "      <td>90.5</td>\n",
       "    </tr>\n",
       "    <tr>\n",
       "      <th>149</th>\n",
       "      <td>87.500000</td>\n",
       "      <td>90.0</td>\n",
       "      <td>84.5</td>\n",
       "      <td>77.0</td>\n",
       "    </tr>\n",
       "  </tbody>\n",
       "</table>\n",
       "<p>150 rows × 4 columns</p>\n",
       "</div>"
      ],
      "text/plain": [
       "      Homework  Project  Quiz   Exam\n",
       "0    98.333333     95.0  97.5  100.0\n",
       "1    81.166667      0.0  95.0   96.0\n",
       "2    80.333333      0.0  97.5   90.0\n",
       "3    70.833333     40.0  73.0   60.0\n",
       "4    86.250000     90.0  86.0   90.0\n",
       "..         ...      ...   ...    ...\n",
       "145  80.833333     30.0  65.5   77.5\n",
       "146  82.083333     85.0  72.0   41.0\n",
       "147  87.500000     80.0  83.0   72.0\n",
       "148  90.000000     90.0  93.0   90.5\n",
       "149  87.500000     90.0  84.5   77.0\n",
       "\n",
       "[150 rows x 4 columns]"
      ]
     },
     "execution_count": 8,
     "metadata": {},
     "output_type": "execute_result"
    }
   ],
   "source": [
    "features = data.drop(columns=['Total', 'Final', 'Grade'])\n",
    "features"
   ]
  },
  {
   "cell_type": "code",
   "execution_count": 4,
   "metadata": {},
   "outputs": [
    {
     "data": {
      "text/plain": [
       "0      98.934091\n",
       "1      79.271818\n",
       "2      40.508182\n",
       "3      53.681818\n",
       "4      88.502273\n",
       "         ...    \n",
       "145    70.512879\n",
       "146    49.224242\n",
       "147    62.769697\n",
       "148    92.381970\n",
       "149    69.924242\n",
       "Name: Final, Length: 150, dtype: float64"
      ]
     },
     "execution_count": 4,
     "metadata": {},
     "output_type": "execute_result"
    }
   ],
   "source": [
    "y = data['Final']\n",
    "y"
   ]
  },
  {
   "cell_type": "code",
   "execution_count": 39,
   "metadata": {},
   "outputs": [],
   "source": [
    "# Adding a column of ones to the features\n",
    "x = []\n",
    "for i in range(0, len(features)):\n",
    "    x.append([1] + features.iloc[i].values.tolist())\n",
    "x = np.array(x)\n",
    "\n",
    "# Transposing the features\n",
    "x_transpose = x.transpose()"
   ]
  },
  {
   "cell_type": "code",
   "execution_count": 41,
   "metadata": {},
   "outputs": [
    {
     "data": {
      "text/plain": [
       "array([-11.05170591,   0.12912058,   0.24003527,   0.3645488 ,\n",
       "         0.3574279 ])"
      ]
     },
     "execution_count": 41,
     "metadata": {},
     "output_type": "execute_result"
    }
   ],
   "source": [
    "# B = (X^T * X)^-1 * X^T * Y\n",
    "xtx = np.matmul(x_transpose, x)\n",
    "xtx_inv = np.linalg.inv(xtx)\n",
    "xty = np.matmul(x_transpose, y)\n",
    "\n",
    "# Array of the coefficients\n",
    "    # B[0] = Intercept\n",
    "    # B[1] = Homework\n",
    "    # B[2] = Project\n",
    "    # B[3] = Quiz\n",
    "    # B[4] = Exam\n",
    "B = np.matmul(xtx_inv, xty)\n",
    "B"
   ]
  },
  {
   "cell_type": "code",
   "execution_count": 81,
   "metadata": {},
   "outputs": [],
   "source": [
    "# Initialize the Variables\n",
    "\n",
    "# hw = input('Enter the homework average: ').replace(',', '.')\n",
    "# proj = input('Enter the project average: ').replace(',', '.')\n",
    "# quiz = input('Enter the quiz average: ').replace(',', '.')\n",
    "# exam = input('Enter the exam grade: ').replace(',', '.')\n",
    "\n",
    "hw = 100.0\n",
    "proj = 100.0\n",
    "quiz = 100.0\n",
    "exam = 100.0"
   ]
  },
  {
   "cell_type": "code",
   "execution_count": 82,
   "metadata": {},
   "outputs": [
    {
     "name": "stdout",
     "output_type": "stream",
     "text": [
      "\n",
      "Predicted Final with Multiple Linear Regression: 98.06 (A)\n"
     ]
    }
   ],
   "source": [
    "# Predict with Multiple Linear Regression\n",
    "final = B[0] + B[1] * hw + B[2] * proj + B[3] * quiz + B[4] * exam\n",
    "\n",
    "# Convert to letter grade\n",
    "grade = 'A' if final >= 90 else 'B' if final >= 80 else 'C' if final >= 70 else 'D' if final >= 60 else 'F'\n",
    "print(f'\\nPredicted Final with Multiple Linear Regression: {final:.2f} ({grade})')"
   ]
  },
  {
   "cell_type": "code",
   "execution_count": 53,
   "metadata": {},
   "outputs": [
    {
     "data": {
      "image/png": "[encoded data removed]",
      "text/plain": [
       "<Figure size 640x480 with 1 Axes>"
      ]
     },
     "metadata": {},
     "output_type": "display_data"
    }
   ],
   "source": [
    "# Plot Line of Best Fit\n",
    "plt.scatter(data['Total'], y, color='black')\n",
    "plt.plot(data['Total'], B[0] + B[1] * data['Homework'] + B[2] * data['Project'] + B[3] * data['Quiz'] + B[4] * data['Exam'], color='red')\n",
    "plt.title('Multiple Linear Regression')\n",
    "plt.xlabel('Total')\n",
    "plt.ylabel('Final')\n",
    "plt.show()\n"
   ]
  }
 ],
 "metadata": {
  "kernelspec": {
   "display_name": "Python 3",
   "language": "python",
   "name": "python3"
  },
  "language_info": {
   "codemirror_mode": {
    "name": "ipython",
    "version": 3
   },
   "file_extension": ".py",
   "mimetype": "text/x-python",
   "name": "python",
   "nbconvert_exporter": "python",
   "pygments_lexer": "ipython3",
   "version": "3.11.8"
  }
 },
 "nbformat": 4,
 "nbformat_minor": 2
}
